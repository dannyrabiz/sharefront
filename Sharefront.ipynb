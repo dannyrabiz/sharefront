{
  "cells": [
    {
      "cell_type": "code",
      "execution_count": null,
      "id": "e2ffa182",
      "metadata": {
        "colab": {
          "base_uri": "https://localhost:8080/"
        },
        "id": "e2ffa182",
        "outputId": "8871ef59-ca92-4c12-f5fd-5ab6ae8351c3"
      },
      "outputs": [
        {
          "output_type": "stream",
          "name": "stdout",
          "text": [
            "Populating the interactive namespace from numpy and matplotlib\n"
          ]
        }
      ],
      "source": [
        "import pandas as pd \n",
        "%pylab inline \n",
        "import plotly.express as px"
      ]
    },
    {
      "cell_type": "code",
      "source": [
        "#DO NOT put commas in your numbers (ex: put 3000 not 3,000)\n",
        "\n",
        "sf = 3500                  #square footage\n",
        "rent =   600000               #yearly \n",
        "employee_salary =  55000     #Annual salary of employee\n",
        "number_employees = 6     #number of employees\n",
        "construction_perfoot = 70  #price\n",
        "common_cost =  90000         #yearly \n",
        "storage_price = 300    #monthly \n",
        "storage_space =  200   #Sf\n",
        "service_fee =  300     #monthly \n",
        "Avg_px =   11500         #monthly \n",
        "Aff_px =   8500         #monthly \n",
        "Prem_px =   15500        #monthly \n",
        "Avg_sf =    300        #Square footage  \n",
        "Aff_sf =    200        #Square footage \n",
        "Prem_sf =   400        #Square footage  \n",
        "perc_return =  .35     #Put as decimal (ex: 0.35 for 35%); Desired percentage return\n",
        "\n",
        "\n",
        "\n",
        "\n"
      ],
      "metadata": {
        "id": "kWBE699xTjXn"
      },
      "id": "kWBE699xTjXn",
      "execution_count": null,
      "outputs": []
    },
    {
      "cell_type": "code",
      "execution_count": null,
      "id": "807c83b6",
      "metadata": {
        "id": "807c83b6"
      },
      "outputs": [],
      "source": [
        "def calculate_return(sf, rent, employee_salary, \n",
        "                     number_employees, construction_perfoot, \n",
        "                    common_cost, storage_price, storage_space, service_fee, \n",
        "                     Avg_px, Aff_px, Prem_px, \n",
        "                    Avg_sf, Aff_sf, Prem_sf, perc_return):\n",
        "    \n",
        "    \n",
        "    addn_expenses = (number_employees*employee_salary) + (construction_perfoot*sf )\n",
        "    Total_expenses = rent + addn_expenses + common_cost\n",
        "    \n",
        "    \n",
        "    min_revenue = (1+perc_return)*Total_expenses\n",
        "\n",
        "    solutions = []\n",
        "     \n",
        "    for av in range(1,int(sf/Avg_sf) ):  #assumes at least one of each subscription\n",
        "        for af in range(1, int(sf/Aff_sf)):\n",
        "            for prem in range(1, int(sf/Prem_sf)):\n",
        "                if af*Aff_sf + av*Avg_sf + prem*Prem_sf <=sf: #must be less than total sq\n",
        "                    revenue = (af*Aff_px + av*Avg_px + prem*Prem_px)*12 + (service_fee*12)*(av+af+prem) + (0.7*storage_space/200)*storage_price*12\n",
        "                    if revenue >= min_revenue: #greater than desired return \n",
        "                        solutions.append([av,af,prem, revenue,'Greater than {}% return'.format(int(perc_return*100))\n",
        "                                          , \"{:.1%}\".format((revenue/Total_expenses)-1 ), round( (revenue/Total_expenses)-1 ,2)])\n",
        "                    elif revenue < Total_expenses: #losing money \n",
        "                        pass\n",
        "                    else: \n",
        "                        solutions.append([av,af,prem,revenue, 'Less than {}% return'.format(int(perc_return*100))\n",
        "                                          , \"{:.1%}\".format((revenue/Total_expenses)-1 ), round( (revenue/Total_expenses)-1 ,2)   ])\n",
        "    return solutions\n",
        "    \n",
        "    \n",
        "    "
      ]
    },
    {
      "cell_type": "code",
      "execution_count": null,
      "id": "d183dde1",
      "metadata": {
        "id": "d183dde1"
      },
      "outputs": [],
      "source": [
        ""
      ]
    },
    {
      "cell_type": "code",
      "execution_count": null,
      "id": "46065608",
      "metadata": {
        "id": "46065608"
      },
      "outputs": [],
      "source": [
        "\n",
        "solution = calculate_return(sf, rent, employee_salary, \n",
        "                     number_employees, construction_perfoot, \n",
        "                    common_cost, storage_price, storage_space, service_fee, \n",
        "                     Avg_px, Aff_px, Prem_px, \n",
        "                    Avg_sf, Aff_sf, Prem_sf, perc_return)\n",
        "plotdf = pd.DataFrame(np.vstack(solution))\n",
        "plotdf['# of subscriptions'] = plotdf[0].astype(int)+plotdf[1].astype(int)+plotdf[2].astype(int)\n",
        "plotdf.columns=['# of Average_Subscriptions', '# of Affordable_Subscriptions','# of Premium_Subscriptions',\n",
        "               'Revenue','Return', 'Percentage_return', 'return', '# of subscriptions']"
      ]
    },
    {
      "cell_type": "code",
      "execution_count": null,
      "id": "7f5006e0",
      "metadata": {
        "scrolled": false,
        "colab": {
          "base_uri": "https://localhost:8080/",
          "height": 542
        },
        "id": "7f5006e0",
        "outputId": "fa6edf83-04c0-4908-a32b-f37fc8dcd41e"
      },
      "outputs": [
        {
          "output_type": "display_data",
          "data": {
            "text/html": [
              "<html>\n",
              "<head><meta charset=\"utf-8\" /></head>\n",
              "<body>\n",
              "    <div>            <script src=\"https://cdnjs.cloudflare.com/ajax/libs/mathjax/2.7.5/MathJax.js?config=TeX-AMS-MML_SVG\"></script><script type=\"text/javascript\">if (window.MathJax) {MathJax.Hub.Config({SVG: {font: \"STIX-Web\"}});}</script>                <script type=\"text/javascript\">window.PlotlyConfig = {MathJaxConfig: 'local'};</script>\n",
              "        <script src=\"https://cdn.plot.ly/plotly-2.8.3.min.js\"></script>                <div id=\"7384c1e1-3f2c-481f-8a85-279042ae8db8\" class=\"plotly-graph-div\" style=\"height:525px; width:100%;\"></div>            <script type=\"text/javascript\">                                    window.PLOTLYENV=window.PLOTLYENV || {};                                    if (document.getElementById(\"7384c1e1-3f2c-481f-8a85-279042ae8db8\")) {                    Plotly.newPlot(                        \"7384c1e1-3f2c-481f-8a85-279042ae8db8\",                        [{\"customdata\":[[\"1387320.0\",\"9.7%\",\"1\",\"6\",\"1\"],[\"1576920.0\",\"24.7%\",\"1\",\"7\",\"1\"],[\"1303320.0\",\"3.0%\",\"1\",\"5\",\"2\"],[\"1492920.0\",\"18.0%\",\"1\",\"6\",\"2\"],[\"1682520.0\",\"33.0%\",\"1\",\"7\",\"2\"],[\"1408920.0\",\"11.4%\",\"1\",\"5\",\"3\"],[\"1598520.0\",\"26.4%\",\"1\",\"6\",\"3\"],[\"1324920.0\",\"4.7%\",\"1\",\"4\",\"4\"],[\"1514520.0\",\"19.7%\",\"1\",\"5\",\"4\"],[\"1704120.0\",\"34.7%\",\"1\",\"6\",\"4\"],[\"1430520.0\",\"13.1%\",\"1\",\"4\",\"5\"],[\"1620120.0\",\"28.1%\",\"1\",\"5\",\"5\"],[\"1346520.0\",\"6.4%\",\"1\",\"3\",\"6\"],[\"1536120.0\",\"21.4%\",\"1\",\"4\",\"6\"],[\"1452120.0\",\"14.8%\",\"1\",\"3\",\"7\"],[\"1641720.0\",\"29.8%\",\"1\",\"4\",\"7\"],[\"1368120.0\",\"8.2%\",\"1\",\"2\",\"8\"],[\"1557720.0\",\"23.1%\",\"1\",\"3\",\"8\"],[\"1284120.0\",\"1.5%\",\"1\",\"1\",\"9\"],[\"1473720.0\",\"16.5%\",\"1\",\"2\",\"9\"],[\"1663320.0\",\"31.5%\",\"1\",\"3\",\"9\"],[\"1389720.0\",\"9.9%\",\"1\",\"1\",\"10\"],[\"1579320.0\",\"24.8%\",\"1\",\"2\",\"10\"],[\"1495320.0\",\"18.2%\",\"1\",\"1\",\"11\"],[\"1684920.0\",\"33.2%\",\"1\",\"2\",\"11\"],[\"1600920.0\",\"26.6%\",\"1\",\"1\",\"12\"],[\"1706520.0\",\"34.9%\",\"1\",\"1\",\"13\"],[\"1339320.0\",\"5.9%\",\"2\",\"5\",\"1\"],[\"1528920.0\",\"20.9%\",\"2\",\"6\",\"1\"],[\"1444920.0\",\"14.2%\",\"2\",\"5\",\"2\"],[\"1634520.0\",\"29.2%\",\"2\",\"6\",\"2\"],[\"1360920.0\",\"7.6%\",\"2\",\"4\",\"3\"],[\"1550520.0\",\"22.6%\",\"2\",\"5\",\"3\"],[\"1276920.0\",\"0.9%\",\"2\",\"3\",\"4\"],[\"1466520.0\",\"15.9%\",\"2\",\"4\",\"4\"],[\"1656120.0\",\"30.9%\",\"2\",\"5\",\"4\"],[\"1382520.0\",\"9.3%\",\"2\",\"3\",\"5\"],[\"1572120.0\",\"24.3%\",\"2\",\"4\",\"5\"],[\"1298520.0\",\"2.6%\",\"2\",\"2\",\"6\"],[\"1488120.0\",\"17.6%\",\"2\",\"3\",\"6\"],[\"1677720.0\",\"32.6%\",\"2\",\"4\",\"6\"],[\"1404120.0\",\"11.0%\",\"2\",\"2\",\"7\"],[\"1593720.0\",\"26.0%\",\"2\",\"3\",\"7\"],[\"1320120.0\",\"4.4%\",\"2\",\"1\",\"8\"],[\"1509720.0\",\"19.3%\",\"2\",\"2\",\"8\"],[\"1699320.0\",\"34.3%\",\"2\",\"3\",\"8\"],[\"1425720.0\",\"12.7%\",\"2\",\"1\",\"9\"],[\"1615320.0\",\"27.7%\",\"2\",\"2\",\"9\"],[\"1531320.0\",\"21.1%\",\"2\",\"1\",\"10\"],[\"1636920.0\",\"29.4%\",\"2\",\"1\",\"11\"],[\"1291320.0\",\"2.1%\",\"3\",\"4\",\"1\"],[\"1480920.0\",\"17.1%\",\"3\",\"5\",\"1\"],[\"1670520.0\",\"32.1%\",\"3\",\"6\",\"1\"],[\"1396920.0\",\"10.4%\",\"3\",\"4\",\"2\"],[\"1586520.0\",\"25.4%\",\"3\",\"5\",\"2\"],[\"1312920.0\",\"3.8%\",\"3\",\"3\",\"3\"],[\"1502520.0\",\"18.8%\",\"3\",\"4\",\"3\"],[\"1692120.0\",\"33.8%\",\"3\",\"5\",\"3\"],[\"1418520.0\",\"12.1%\",\"3\",\"3\",\"4\"],[\"1608120.0\",\"27.1%\",\"3\",\"4\",\"4\"],[\"1334520.0\",\"5.5%\",\"3\",\"2\",\"5\"],[\"1524120.0\",\"20.5%\",\"3\",\"3\",\"5\"],[\"1440120.0\",\"13.8%\",\"3\",\"2\",\"6\"],[\"1629720.0\",\"28.8%\",\"3\",\"3\",\"6\"],[\"1356120.0\",\"7.2%\",\"3\",\"1\",\"7\"],[\"1545720.0\",\"22.2%\",\"3\",\"2\",\"7\"],[\"1461720.0\",\"15.6%\",\"3\",\"1\",\"8\"],[\"1651320.0\",\"30.5%\",\"3\",\"2\",\"8\"],[\"1567320.0\",\"23.9%\",\"3\",\"1\",\"9\"],[\"1672920.0\",\"32.2%\",\"3\",\"1\",\"10\"],[\"1432920.0\",\"13.3%\",\"4\",\"4\",\"1\"],[\"1622520.0\",\"28.3%\",\"4\",\"5\",\"1\"],[\"1348920.0\",\"6.6%\",\"4\",\"3\",\"2\"],[\"1538520.0\",\"21.6%\",\"4\",\"4\",\"2\"],[\"1454520.0\",\"15.0%\",\"4\",\"3\",\"3\"],[\"1644120.0\",\"30.0%\",\"4\",\"4\",\"3\"],[\"1370520.0\",\"8.3%\",\"4\",\"2\",\"4\"],[\"1560120.0\",\"23.3%\",\"4\",\"3\",\"4\"],[\"1286520.0\",\"1.7%\",\"4\",\"1\",\"5\"],[\"1476120.0\",\"16.7%\",\"4\",\"2\",\"5\"],[\"1665720.0\",\"31.7%\",\"4\",\"3\",\"5\"],[\"1392120.0\",\"10.0%\",\"4\",\"1\",\"6\"],[\"1581720.0\",\"25.0%\",\"4\",\"2\",\"6\"],[\"1497720.0\",\"18.4%\",\"4\",\"1\",\"7\"],[\"1687320.0\",\"33.4%\",\"4\",\"2\",\"7\"],[\"1603320.0\",\"26.7%\",\"4\",\"1\",\"8\"],[\"1384920.0\",\"9.5%\",\"5\",\"3\",\"1\"],[\"1574520.0\",\"24.5%\",\"5\",\"4\",\"1\"],[\"1300920.0\",\"2.8%\",\"5\",\"2\",\"2\"],[\"1490520.0\",\"17.8%\",\"5\",\"3\",\"2\"],[\"1680120.0\",\"32.8%\",\"5\",\"4\",\"2\"],[\"1406520.0\",\"11.2%\",\"5\",\"2\",\"3\"],[\"1596120.0\",\"26.2%\",\"5\",\"3\",\"3\"],[\"1322520.0\",\"4.5%\",\"5\",\"1\",\"4\"],[\"1512120.0\",\"19.5%\",\"5\",\"2\",\"4\"],[\"1701720.0\",\"34.5%\",\"5\",\"3\",\"4\"],[\"1428120.0\",\"12.9%\",\"5\",\"1\",\"5\"],[\"1617720.0\",\"27.9%\",\"5\",\"2\",\"5\"],[\"1533720.0\",\"21.2%\",\"5\",\"1\",\"6\"],[\"1639320.0\",\"29.6%\",\"5\",\"1\",\"7\"],[\"1336920.0\",\"5.7%\",\"6\",\"2\",\"1\"],[\"1526520.0\",\"20.7%\",\"6\",\"3\",\"1\"],[\"1442520.0\",\"14.0%\",\"6\",\"2\",\"2\"],[\"1632120.0\",\"29.0%\",\"6\",\"3\",\"2\"],[\"1358520.0\",\"7.4%\",\"6\",\"1\",\"3\"],[\"1548120.0\",\"22.4%\",\"6\",\"2\",\"3\"],[\"1464120.0\",\"15.7%\",\"6\",\"1\",\"4\"],[\"1653720.0\",\"30.7%\",\"6\",\"2\",\"4\"],[\"1569720.0\",\"24.1%\",\"6\",\"1\",\"5\"],[\"1675320.0\",\"32.4%\",\"6\",\"1\",\"6\"],[\"1288920.0\",\"1.9%\",\"7\",\"1\",\"1\"],[\"1478520.0\",\"16.9%\",\"7\",\"2\",\"1\"],[\"1668120.0\",\"31.9%\",\"7\",\"3\",\"1\"],[\"1394520.0\",\"10.2%\",\"7\",\"1\",\"2\"],[\"1584120.0\",\"25.2%\",\"7\",\"2\",\"2\"],[\"1500120.0\",\"18.6%\",\"7\",\"1\",\"3\"],[\"1689720.0\",\"33.6%\",\"7\",\"2\",\"3\"],[\"1605720.0\",\"26.9%\",\"7\",\"1\",\"4\"],[\"1430520.0\",\"13.1%\",\"8\",\"1\",\"1\"],[\"1620120.0\",\"28.1%\",\"8\",\"2\",\"1\"],[\"1536120.0\",\"21.4%\",\"8\",\"1\",\"2\"],[\"1641720.0\",\"29.8%\",\"8\",\"1\",\"3\"],[\"1572120.0\",\"24.3%\",\"9\",\"1\",\"1\"],[\"1677720.0\",\"32.6%\",\"9\",\"1\",\"2\"]],\"hovertemplate\":\"Return=Less than 35% return<br># of subscriptions=%{x}<br>return=%{y}<br>Revenue=%{customdata[0]}<br>Percentage_return=%{customdata[1]}<br># of Average_Subscriptions=%{customdata[2]}<br># of Premium_Subscriptions=%{customdata[3]}<br># of Affordable_Subscriptions=%{customdata[4]}<extra></extra>\",\"legendgroup\":\"Less than 35% return\",\"marker\":{\"color\":\"#636efa\",\"symbol\":\"circle\"},\"mode\":\"markers\",\"name\":\"Less than 35% return\",\"orientation\":\"v\",\"showlegend\":true,\"x\":[8,9,8,9,10,9,10,9,10,11,10,11,10,11,11,12,11,12,11,12,13,12,13,13,14,14,15,8,9,9,10,9,10,9,10,11,10,11,10,11,12,11,12,11,12,13,12,13,13,14,8,9,10,9,10,9,10,11,10,11,10,11,11,12,11,12,12,13,13,14,9,10,9,10,10,11,10,11,10,11,12,11,12,12,13,13,9,10,9,10,11,10,11,10,11,12,11,12,12,13,9,10,10,11,10,11,11,12,12,13,9,10,11,10,11,11,12,12,10,11,11,12,11,12],\"xaxis\":\"x\",\"y\":[0.1,0.25,0.03,0.18,0.33,0.11,0.26,0.05,0.2,0.35,0.13,0.28,0.06,0.21,0.15,0.3,0.08,0.23,0.02,0.16,0.31,0.1,0.25,0.18,0.33,0.27,0.35,0.06,0.21,0.14,0.29,0.08,0.23,0.01,0.16,0.31,0.09,0.24,0.03,0.18,0.33,0.11,0.26,0.04,0.19,0.34,0.13,0.28,0.21,0.29,0.02,0.17,0.32,0.1,0.25,0.04,0.19,0.34,0.12,0.27,0.05,0.2,0.14,0.29,0.07,0.22,0.16,0.31,0.24,0.32,0.13,0.28,0.07,0.22,0.15,0.3,0.08,0.23,0.02,0.17,0.32,0.1,0.25,0.18,0.33,0.27,0.09,0.24,0.03,0.18,0.33,0.11,0.26,0.05,0.2,0.35,0.13,0.28,0.21,0.3,0.06,0.21,0.14,0.29,0.07,0.22,0.16,0.31,0.24,0.32,0.02,0.17,0.32,0.1,0.25,0.19,0.34,0.27,0.13,0.28,0.21,0.3,0.24,0.33],\"yaxis\":\"y\",\"type\":\"scatter\"},{\"customdata\":[[\"1725720.0\",\"36.4%\",\"1\",\"5\",\"6\"],[\"1747320.0\",\"38.1%\",\"1\",\"4\",\"8\"],[\"1768920.0\",\"39.8%\",\"1\",\"3\",\"10\"],[\"1790520.0\",\"41.5%\",\"1\",\"2\",\"12\"],[\"1812120.0\",\"43.3%\",\"1\",\"1\",\"14\"],[\"1720920.0\",\"36.0%\",\"2\",\"2\",\"10\"],[\"1742520.0\",\"37.7%\",\"2\",\"1\",\"12\"],[\"1713720.0\",\"35.5%\",\"3\",\"4\",\"5\"],[\"1735320.0\",\"37.2%\",\"3\",\"3\",\"7\"],[\"1756920.0\",\"38.9%\",\"3\",\"2\",\"9\"],[\"1778520.0\",\"40.6%\",\"3\",\"1\",\"11\"],[\"1708920.0\",\"35.1%\",\"4\",\"1\",\"9\"],[\"1723320.0\",\"36.2%\",\"5\",\"2\",\"6\"],[\"1744920.0\",\"37.9%\",\"5\",\"1\",\"8\"],[\"1711320.0\",\"35.3%\",\"7\",\"1\",\"5\"]],\"hovertemplate\":\"Return=Greater than 35% return<br># of subscriptions=%{x}<br>return=%{y}<br>Revenue=%{customdata[0]}<br>Percentage_return=%{customdata[1]}<br># of Average_Subscriptions=%{customdata[2]}<br># of Premium_Subscriptions=%{customdata[3]}<br># of Affordable_Subscriptions=%{customdata[4]}<extra></extra>\",\"legendgroup\":\"Greater than 35% return\",\"marker\":{\"color\":\"#EF553B\",\"symbol\":\"circle\"},\"mode\":\"markers\",\"name\":\"Greater than 35% return\",\"orientation\":\"v\",\"showlegend\":true,\"x\":[12,13,14,15,16,14,15,12,13,14,15,14,13,14,13],\"xaxis\":\"x\",\"y\":[0.36,0.38,0.4,0.42,0.43,0.36,0.38,0.35,0.37,0.39,0.41,0.35,0.36,0.38,0.35],\"yaxis\":\"y\",\"type\":\"scatter\"}],                        {\"template\":{\"data\":{\"bar\":[{\"error_x\":{\"color\":\"#2a3f5f\"},\"error_y\":{\"color\":\"#2a3f5f\"},\"marker\":{\"line\":{\"color\":\"#E5ECF6\",\"width\":0.5},\"pattern\":{\"fillmode\":\"overlay\",\"size\":10,\"solidity\":0.2}},\"type\":\"bar\"}],\"barpolar\":[{\"marker\":{\"line\":{\"color\":\"#E5ECF6\",\"width\":0.5},\"pattern\":{\"fillmode\":\"overlay\",\"size\":10,\"solidity\":0.2}},\"type\":\"barpolar\"}],\"carpet\":[{\"aaxis\":{\"endlinecolor\":\"#2a3f5f\",\"gridcolor\":\"white\",\"linecolor\":\"white\",\"minorgridcolor\":\"white\",\"startlinecolor\":\"#2a3f5f\"},\"baxis\":{\"endlinecolor\":\"#2a3f5f\",\"gridcolor\":\"white\",\"linecolor\":\"white\",\"minorgridcolor\":\"white\",\"startlinecolor\":\"#2a3f5f\"},\"type\":\"carpet\"}],\"choropleth\":[{\"colorbar\":{\"outlinewidth\":0,\"ticks\":\"\"},\"type\":\"choropleth\"}],\"contour\":[{\"colorbar\":{\"outlinewidth\":0,\"ticks\":\"\"},\"colorscale\":[[0.0,\"#0d0887\"],[0.1111111111111111,\"#46039f\"],[0.2222222222222222,\"#7201a8\"],[0.3333333333333333,\"#9c179e\"],[0.4444444444444444,\"#bd3786\"],[0.5555555555555556,\"#d8576b\"],[0.6666666666666666,\"#ed7953\"],[0.7777777777777778,\"#fb9f3a\"],[0.8888888888888888,\"#fdca26\"],[1.0,\"#f0f921\"]],\"type\":\"contour\"}],\"contourcarpet\":[{\"colorbar\":{\"outlinewidth\":0,\"ticks\":\"\"},\"type\":\"contourcarpet\"}],\"heatmap\":[{\"colorbar\":{\"outlinewidth\":0,\"ticks\":\"\"},\"colorscale\":[[0.0,\"#0d0887\"],[0.1111111111111111,\"#46039f\"],[0.2222222222222222,\"#7201a8\"],[0.3333333333333333,\"#9c179e\"],[0.4444444444444444,\"#bd3786\"],[0.5555555555555556,\"#d8576b\"],[0.6666666666666666,\"#ed7953\"],[0.7777777777777778,\"#fb9f3a\"],[0.8888888888888888,\"#fdca26\"],[1.0,\"#f0f921\"]],\"type\":\"heatmap\"}],\"heatmapgl\":[{\"colorbar\":{\"outlinewidth\":0,\"ticks\":\"\"},\"colorscale\":[[0.0,\"#0d0887\"],[0.1111111111111111,\"#46039f\"],[0.2222222222222222,\"#7201a8\"],[0.3333333333333333,\"#9c179e\"],[0.4444444444444444,\"#bd3786\"],[0.5555555555555556,\"#d8576b\"],[0.6666666666666666,\"#ed7953\"],[0.7777777777777778,\"#fb9f3a\"],[0.8888888888888888,\"#fdca26\"],[1.0,\"#f0f921\"]],\"type\":\"heatmapgl\"}],\"histogram\":[{\"marker\":{\"pattern\":{\"fillmode\":\"overlay\",\"size\":10,\"solidity\":0.2}},\"type\":\"histogram\"}],\"histogram2d\":[{\"colorbar\":{\"outlinewidth\":0,\"ticks\":\"\"},\"colorscale\":[[0.0,\"#0d0887\"],[0.1111111111111111,\"#46039f\"],[0.2222222222222222,\"#7201a8\"],[0.3333333333333333,\"#9c179e\"],[0.4444444444444444,\"#bd3786\"],[0.5555555555555556,\"#d8576b\"],[0.6666666666666666,\"#ed7953\"],[0.7777777777777778,\"#fb9f3a\"],[0.8888888888888888,\"#fdca26\"],[1.0,\"#f0f921\"]],\"type\":\"histogram2d\"}],\"histogram2dcontour\":[{\"colorbar\":{\"outlinewidth\":0,\"ticks\":\"\"},\"colorscale\":[[0.0,\"#0d0887\"],[0.1111111111111111,\"#46039f\"],[0.2222222222222222,\"#7201a8\"],[0.3333333333333333,\"#9c179e\"],[0.4444444444444444,\"#bd3786\"],[0.5555555555555556,\"#d8576b\"],[0.6666666666666666,\"#ed7953\"],[0.7777777777777778,\"#fb9f3a\"],[0.8888888888888888,\"#fdca26\"],[1.0,\"#f0f921\"]],\"type\":\"histogram2dcontour\"}],\"mesh3d\":[{\"colorbar\":{\"outlinewidth\":0,\"ticks\":\"\"},\"type\":\"mesh3d\"}],\"parcoords\":[{\"line\":{\"colorbar\":{\"outlinewidth\":0,\"ticks\":\"\"}},\"type\":\"parcoords\"}],\"pie\":[{\"automargin\":true,\"type\":\"pie\"}],\"scatter\":[{\"marker\":{\"colorbar\":{\"outlinewidth\":0,\"ticks\":\"\"}},\"type\":\"scatter\"}],\"scatter3d\":[{\"line\":{\"colorbar\":{\"outlinewidth\":0,\"ticks\":\"\"}},\"marker\":{\"colorbar\":{\"outlinewidth\":0,\"ticks\":\"\"}},\"type\":\"scatter3d\"}],\"scattercarpet\":[{\"marker\":{\"colorbar\":{\"outlinewidth\":0,\"ticks\":\"\"}},\"type\":\"scattercarpet\"}],\"scattergeo\":[{\"marker\":{\"colorbar\":{\"outlinewidth\":0,\"ticks\":\"\"}},\"type\":\"scattergeo\"}],\"scattergl\":[{\"marker\":{\"colorbar\":{\"outlinewidth\":0,\"ticks\":\"\"}},\"type\":\"scattergl\"}],\"scattermapbox\":[{\"marker\":{\"colorbar\":{\"outlinewidth\":0,\"ticks\":\"\"}},\"type\":\"scattermapbox\"}],\"scatterpolar\":[{\"marker\":{\"colorbar\":{\"outlinewidth\":0,\"ticks\":\"\"}},\"type\":\"scatterpolar\"}],\"scatterpolargl\":[{\"marker\":{\"colorbar\":{\"outlinewidth\":0,\"ticks\":\"\"}},\"type\":\"scatterpolargl\"}],\"scatterternary\":[{\"marker\":{\"colorbar\":{\"outlinewidth\":0,\"ticks\":\"\"}},\"type\":\"scatterternary\"}],\"surface\":[{\"colorbar\":{\"outlinewidth\":0,\"ticks\":\"\"},\"colorscale\":[[0.0,\"#0d0887\"],[0.1111111111111111,\"#46039f\"],[0.2222222222222222,\"#7201a8\"],[0.3333333333333333,\"#9c179e\"],[0.4444444444444444,\"#bd3786\"],[0.5555555555555556,\"#d8576b\"],[0.6666666666666666,\"#ed7953\"],[0.7777777777777778,\"#fb9f3a\"],[0.8888888888888888,\"#fdca26\"],[1.0,\"#f0f921\"]],\"type\":\"surface\"}],\"table\":[{\"cells\":{\"fill\":{\"color\":\"#EBF0F8\"},\"line\":{\"color\":\"white\"}},\"header\":{\"fill\":{\"color\":\"#C8D4E3\"},\"line\":{\"color\":\"white\"}},\"type\":\"table\"}]},\"layout\":{\"annotationdefaults\":{\"arrowcolor\":\"#2a3f5f\",\"arrowhead\":0,\"arrowwidth\":1},\"autotypenumbers\":\"strict\",\"coloraxis\":{\"colorbar\":{\"outlinewidth\":0,\"ticks\":\"\"}},\"colorscale\":{\"diverging\":[[0,\"#8e0152\"],[0.1,\"#c51b7d\"],[0.2,\"#de77ae\"],[0.3,\"#f1b6da\"],[0.4,\"#fde0ef\"],[0.5,\"#f7f7f7\"],[0.6,\"#e6f5d0\"],[0.7,\"#b8e186\"],[0.8,\"#7fbc41\"],[0.9,\"#4d9221\"],[1,\"#276419\"]],\"sequential\":[[0.0,\"#0d0887\"],[0.1111111111111111,\"#46039f\"],[0.2222222222222222,\"#7201a8\"],[0.3333333333333333,\"#9c179e\"],[0.4444444444444444,\"#bd3786\"],[0.5555555555555556,\"#d8576b\"],[0.6666666666666666,\"#ed7953\"],[0.7777777777777778,\"#fb9f3a\"],[0.8888888888888888,\"#fdca26\"],[1.0,\"#f0f921\"]],\"sequentialminus\":[[0.0,\"#0d0887\"],[0.1111111111111111,\"#46039f\"],[0.2222222222222222,\"#7201a8\"],[0.3333333333333333,\"#9c179e\"],[0.4444444444444444,\"#bd3786\"],[0.5555555555555556,\"#d8576b\"],[0.6666666666666666,\"#ed7953\"],[0.7777777777777778,\"#fb9f3a\"],[0.8888888888888888,\"#fdca26\"],[1.0,\"#f0f921\"]]},\"colorway\":[\"#636efa\",\"#EF553B\",\"#00cc96\",\"#ab63fa\",\"#FFA15A\",\"#19d3f3\",\"#FF6692\",\"#B6E880\",\"#FF97FF\",\"#FECB52\"],\"font\":{\"color\":\"#2a3f5f\"},\"geo\":{\"bgcolor\":\"white\",\"lakecolor\":\"white\",\"landcolor\":\"#E5ECF6\",\"showlakes\":true,\"showland\":true,\"subunitcolor\":\"white\"},\"hoverlabel\":{\"align\":\"left\"},\"hovermode\":\"closest\",\"mapbox\":{\"style\":\"light\"},\"paper_bgcolor\":\"white\",\"plot_bgcolor\":\"#E5ECF6\",\"polar\":{\"angularaxis\":{\"gridcolor\":\"white\",\"linecolor\":\"white\",\"ticks\":\"\"},\"bgcolor\":\"#E5ECF6\",\"radialaxis\":{\"gridcolor\":\"white\",\"linecolor\":\"white\",\"ticks\":\"\"}},\"scene\":{\"xaxis\":{\"backgroundcolor\":\"#E5ECF6\",\"gridcolor\":\"white\",\"gridwidth\":2,\"linecolor\":\"white\",\"showbackground\":true,\"ticks\":\"\",\"zerolinecolor\":\"white\"},\"yaxis\":{\"backgroundcolor\":\"#E5ECF6\",\"gridcolor\":\"white\",\"gridwidth\":2,\"linecolor\":\"white\",\"showbackground\":true,\"ticks\":\"\",\"zerolinecolor\":\"white\"},\"zaxis\":{\"backgroundcolor\":\"#E5ECF6\",\"gridcolor\":\"white\",\"gridwidth\":2,\"linecolor\":\"white\",\"showbackground\":true,\"ticks\":\"\",\"zerolinecolor\":\"white\"}},\"shapedefaults\":{\"line\":{\"color\":\"#2a3f5f\"}},\"ternary\":{\"aaxis\":{\"gridcolor\":\"white\",\"linecolor\":\"white\",\"ticks\":\"\"},\"baxis\":{\"gridcolor\":\"white\",\"linecolor\":\"white\",\"ticks\":\"\"},\"bgcolor\":\"#E5ECF6\",\"caxis\":{\"gridcolor\":\"white\",\"linecolor\":\"white\",\"ticks\":\"\"}},\"title\":{\"x\":0.05},\"xaxis\":{\"automargin\":true,\"gridcolor\":\"white\",\"linecolor\":\"white\",\"ticks\":\"\",\"title\":{\"standoff\":15},\"zerolinecolor\":\"white\",\"zerolinewidth\":2},\"yaxis\":{\"automargin\":true,\"gridcolor\":\"white\",\"linecolor\":\"white\",\"ticks\":\"\",\"title\":{\"standoff\":15},\"zerolinecolor\":\"white\",\"zerolinewidth\":2}}},\"xaxis\":{\"anchor\":\"y\",\"domain\":[0.0,1.0],\"title\":{\"text\":\"# of subscriptions\"}},\"yaxis\":{\"anchor\":\"x\",\"domain\":[0.0,1.0],\"title\":{\"text\":\"return\"}},\"legend\":{\"title\":{\"text\":\"Return\"},\"tracegroupgap\":0},\"title\":{\"text\":\"Sharefront\"}},                        {\"responsive\": true}                    ).then(function(){\n",
              "                            \n",
              "var gd = document.getElementById('7384c1e1-3f2c-481f-8a85-279042ae8db8');\n",
              "var x = new MutationObserver(function (mutations, observer) {{\n",
              "        var display = window.getComputedStyle(gd).display;\n",
              "        if (!display || display === 'none') {{\n",
              "            console.log([gd, 'removed!']);\n",
              "            Plotly.purge(gd);\n",
              "            observer.disconnect();\n",
              "        }}\n",
              "}});\n",
              "\n",
              "// Listen for the removal of the full notebook cells\n",
              "var notebookContainer = gd.closest('#notebook-container');\n",
              "if (notebookContainer) {{\n",
              "    x.observe(notebookContainer, {childList: true});\n",
              "}}\n",
              "\n",
              "// Listen for the clearing of the current output cell\n",
              "var outputEl = gd.closest('.output');\n",
              "if (outputEl) {{\n",
              "    x.observe(outputEl, {childList: true});\n",
              "}}\n",
              "\n",
              "                        })                };                            </script>        </div>\n",
              "</body>\n",
              "</html>"
            ]
          },
          "metadata": {}
        }
      ],
      "source": [
        "plotdf['return'] = plotdf['return'].astype(float)\n",
        "fig = px.scatter(plotdf, x='# of subscriptions', y='return', title ='Sharefront',\n",
        "              color='Return', hover_data=['Revenue','Percentage_return','# of Average_Subscriptions', \n",
        "                                    '# of Premium_Subscriptions','# of Affordable_Subscriptions' ])\n",
        "fig.show()"
      ]
    },
    {
      "cell_type": "code",
      "execution_count": null,
      "id": "b3839ba6",
      "metadata": {
        "id": "b3839ba6",
        "outputId": "ddf4a7cc-7060-4c31-bb3e-cfdd4161351d",
        "colab": {
          "base_uri": "https://localhost:8080/",
          "height": 542
        }
      },
      "outputs": [
        {
          "output_type": "display_data",
          "data": {
            "text/html": [
              "<html>\n",
              "<head><meta charset=\"utf-8\" /></head>\n",
              "<body>\n",
              "    <div>            <script src=\"https://cdnjs.cloudflare.com/ajax/libs/mathjax/2.7.5/MathJax.js?config=TeX-AMS-MML_SVG\"></script><script type=\"text/javascript\">if (window.MathJax) {MathJax.Hub.Config({SVG: {font: \"STIX-Web\"}});}</script>                <script type=\"text/javascript\">window.PlotlyConfig = {MathJaxConfig: 'local'};</script>\n",
              "        <script src=\"https://cdn.plot.ly/plotly-2.8.3.min.js\"></script>                <div id=\"00d590b5-9e46-4145-ba16-8a13460539dd\" class=\"plotly-graph-div\" style=\"height:525px; width:100%;\"></div>            <script type=\"text/javascript\">                                    window.PLOTLYENV=window.PLOTLYENV || {};                                    if (document.getElementById(\"00d590b5-9e46-4145-ba16-8a13460539dd\")) {                    Plotly.newPlot(                        \"00d590b5-9e46-4145-ba16-8a13460539dd\",                        [{\"customdata\":[[\"9.7%\"],[\"24.7%\"],[\"3.0%\"],[\"18.0%\"],[\"33.0%\"],[\"11.4%\"],[\"26.4%\"],[\"4.7%\"],[\"19.7%\"],[\"34.7%\"],[\"13.1%\"],[\"28.1%\"],[\"6.4%\"],[\"21.4%\"],[\"14.8%\"],[\"29.8%\"],[\"8.2%\"],[\"23.1%\"],[\"1.5%\"],[\"16.5%\"],[\"31.5%\"],[\"9.9%\"],[\"24.8%\"],[\"18.2%\"],[\"33.2%\"],[\"26.6%\"],[\"34.9%\"],[\"5.9%\"],[\"20.9%\"],[\"14.2%\"],[\"29.2%\"],[\"7.6%\"],[\"22.6%\"],[\"0.9%\"],[\"15.9%\"],[\"30.9%\"],[\"9.3%\"],[\"24.3%\"],[\"2.6%\"],[\"17.6%\"],[\"32.6%\"],[\"11.0%\"],[\"26.0%\"],[\"4.4%\"],[\"19.3%\"],[\"34.3%\"],[\"12.7%\"],[\"27.7%\"],[\"21.1%\"],[\"29.4%\"],[\"2.1%\"],[\"17.1%\"],[\"32.1%\"],[\"10.4%\"],[\"25.4%\"],[\"3.8%\"],[\"18.8%\"],[\"33.8%\"],[\"12.1%\"],[\"27.1%\"],[\"5.5%\"],[\"20.5%\"],[\"13.8%\"],[\"28.8%\"],[\"7.2%\"],[\"22.2%\"],[\"15.6%\"],[\"30.5%\"],[\"23.9%\"],[\"32.2%\"],[\"13.3%\"],[\"28.3%\"],[\"6.6%\"],[\"21.6%\"],[\"15.0%\"],[\"30.0%\"],[\"8.3%\"],[\"23.3%\"],[\"1.7%\"],[\"16.7%\"],[\"31.7%\"],[\"10.0%\"],[\"25.0%\"],[\"18.4%\"],[\"33.4%\"],[\"26.7%\"],[\"9.5%\"],[\"24.5%\"],[\"2.8%\"],[\"17.8%\"],[\"32.8%\"],[\"11.2%\"],[\"26.2%\"],[\"4.5%\"],[\"19.5%\"],[\"34.5%\"],[\"12.9%\"],[\"27.9%\"],[\"21.2%\"],[\"29.6%\"],[\"5.7%\"],[\"20.7%\"],[\"14.0%\"],[\"29.0%\"],[\"7.4%\"],[\"22.4%\"],[\"15.7%\"],[\"30.7%\"],[\"24.1%\"],[\"32.4%\"],[\"1.9%\"],[\"16.9%\"],[\"31.9%\"],[\"10.2%\"],[\"25.2%\"],[\"18.6%\"],[\"33.6%\"],[\"26.9%\"],[\"13.1%\"],[\"28.1%\"],[\"21.4%\"],[\"29.8%\"],[\"24.3%\"],[\"32.6%\"]],\"hovertemplate\":\"Return=Less than 35% return<br># of Average_Subscriptions=%{x}<br># of Premium_Subscriptions=%{y}<br># of Affordable_Subscriptions=%{z}<br>Percentage_return=%{customdata[0]}<extra></extra>\",\"legendgroup\":\"Less than 35% return\",\"marker\":{\"color\":\"#636efa\",\"symbol\":\"circle\"},\"mode\":\"markers\",\"name\":\"Less than 35% return\",\"scene\":\"scene\",\"showlegend\":true,\"x\":[\"1\",\"1\",\"1\",\"1\",\"1\",\"1\",\"1\",\"1\",\"1\",\"1\",\"1\",\"1\",\"1\",\"1\",\"1\",\"1\",\"1\",\"1\",\"1\",\"1\",\"1\",\"1\",\"1\",\"1\",\"1\",\"1\",\"1\",\"2\",\"2\",\"2\",\"2\",\"2\",\"2\",\"2\",\"2\",\"2\",\"2\",\"2\",\"2\",\"2\",\"2\",\"2\",\"2\",\"2\",\"2\",\"2\",\"2\",\"2\",\"2\",\"2\",\"3\",\"3\",\"3\",\"3\",\"3\",\"3\",\"3\",\"3\",\"3\",\"3\",\"3\",\"3\",\"3\",\"3\",\"3\",\"3\",\"3\",\"3\",\"3\",\"3\",\"4\",\"4\",\"4\",\"4\",\"4\",\"4\",\"4\",\"4\",\"4\",\"4\",\"4\",\"4\",\"4\",\"4\",\"4\",\"4\",\"5\",\"5\",\"5\",\"5\",\"5\",\"5\",\"5\",\"5\",\"5\",\"5\",\"5\",\"5\",\"5\",\"5\",\"6\",\"6\",\"6\",\"6\",\"6\",\"6\",\"6\",\"6\",\"6\",\"6\",\"7\",\"7\",\"7\",\"7\",\"7\",\"7\",\"7\",\"7\",\"8\",\"8\",\"8\",\"8\",\"9\",\"9\"],\"y\":[\"6\",\"7\",\"5\",\"6\",\"7\",\"5\",\"6\",\"4\",\"5\",\"6\",\"4\",\"5\",\"3\",\"4\",\"3\",\"4\",\"2\",\"3\",\"1\",\"2\",\"3\",\"1\",\"2\",\"1\",\"2\",\"1\",\"1\",\"5\",\"6\",\"5\",\"6\",\"4\",\"5\",\"3\",\"4\",\"5\",\"3\",\"4\",\"2\",\"3\",\"4\",\"2\",\"3\",\"1\",\"2\",\"3\",\"1\",\"2\",\"1\",\"1\",\"4\",\"5\",\"6\",\"4\",\"5\",\"3\",\"4\",\"5\",\"3\",\"4\",\"2\",\"3\",\"2\",\"3\",\"1\",\"2\",\"1\",\"2\",\"1\",\"1\",\"4\",\"5\",\"3\",\"4\",\"3\",\"4\",\"2\",\"3\",\"1\",\"2\",\"3\",\"1\",\"2\",\"1\",\"2\",\"1\",\"3\",\"4\",\"2\",\"3\",\"4\",\"2\",\"3\",\"1\",\"2\",\"3\",\"1\",\"2\",\"1\",\"1\",\"2\",\"3\",\"2\",\"3\",\"1\",\"2\",\"1\",\"2\",\"1\",\"1\",\"1\",\"2\",\"3\",\"1\",\"2\",\"1\",\"2\",\"1\",\"1\",\"2\",\"1\",\"1\",\"1\",\"1\"],\"z\":[\"1\",\"1\",\"2\",\"2\",\"2\",\"3\",\"3\",\"4\",\"4\",\"4\",\"5\",\"5\",\"6\",\"6\",\"7\",\"7\",\"8\",\"8\",\"9\",\"9\",\"9\",\"10\",\"10\",\"11\",\"11\",\"12\",\"13\",\"1\",\"1\",\"2\",\"2\",\"3\",\"3\",\"4\",\"4\",\"4\",\"5\",\"5\",\"6\",\"6\",\"6\",\"7\",\"7\",\"8\",\"8\",\"8\",\"9\",\"9\",\"10\",\"11\",\"1\",\"1\",\"1\",\"2\",\"2\",\"3\",\"3\",\"3\",\"4\",\"4\",\"5\",\"5\",\"6\",\"6\",\"7\",\"7\",\"8\",\"8\",\"9\",\"10\",\"1\",\"1\",\"2\",\"2\",\"3\",\"3\",\"4\",\"4\",\"5\",\"5\",\"5\",\"6\",\"6\",\"7\",\"7\",\"8\",\"1\",\"1\",\"2\",\"2\",\"2\",\"3\",\"3\",\"4\",\"4\",\"4\",\"5\",\"5\",\"6\",\"7\",\"1\",\"1\",\"2\",\"2\",\"3\",\"3\",\"4\",\"4\",\"5\",\"6\",\"1\",\"1\",\"1\",\"2\",\"2\",\"3\",\"3\",\"4\",\"1\",\"1\",\"2\",\"3\",\"1\",\"2\"],\"type\":\"scatter3d\"},{\"customdata\":[[\"36.4%\"],[\"38.1%\"],[\"39.8%\"],[\"41.5%\"],[\"43.3%\"],[\"36.0%\"],[\"37.7%\"],[\"35.5%\"],[\"37.2%\"],[\"38.9%\"],[\"40.6%\"],[\"35.1%\"],[\"36.2%\"],[\"37.9%\"],[\"35.3%\"]],\"hovertemplate\":\"Return=Greater than 35% return<br># of Average_Subscriptions=%{x}<br># of Premium_Subscriptions=%{y}<br># of Affordable_Subscriptions=%{z}<br>Percentage_return=%{customdata[0]}<extra></extra>\",\"legendgroup\":\"Greater than 35% return\",\"marker\":{\"color\":\"#EF553B\",\"symbol\":\"circle\"},\"mode\":\"markers\",\"name\":\"Greater than 35% return\",\"scene\":\"scene\",\"showlegend\":true,\"x\":[\"1\",\"1\",\"1\",\"1\",\"1\",\"2\",\"2\",\"3\",\"3\",\"3\",\"3\",\"4\",\"5\",\"5\",\"7\"],\"y\":[\"5\",\"4\",\"3\",\"2\",\"1\",\"2\",\"1\",\"4\",\"3\",\"2\",\"1\",\"1\",\"2\",\"1\",\"1\"],\"z\":[\"6\",\"8\",\"10\",\"12\",\"14\",\"10\",\"12\",\"5\",\"7\",\"9\",\"11\",\"9\",\"6\",\"8\",\"5\"],\"type\":\"scatter3d\"}],                        {\"template\":{\"data\":{\"bar\":[{\"error_x\":{\"color\":\"#2a3f5f\"},\"error_y\":{\"color\":\"#2a3f5f\"},\"marker\":{\"line\":{\"color\":\"#E5ECF6\",\"width\":0.5},\"pattern\":{\"fillmode\":\"overlay\",\"size\":10,\"solidity\":0.2}},\"type\":\"bar\"}],\"barpolar\":[{\"marker\":{\"line\":{\"color\":\"#E5ECF6\",\"width\":0.5},\"pattern\":{\"fillmode\":\"overlay\",\"size\":10,\"solidity\":0.2}},\"type\":\"barpolar\"}],\"carpet\":[{\"aaxis\":{\"endlinecolor\":\"#2a3f5f\",\"gridcolor\":\"white\",\"linecolor\":\"white\",\"minorgridcolor\":\"white\",\"startlinecolor\":\"#2a3f5f\"},\"baxis\":{\"endlinecolor\":\"#2a3f5f\",\"gridcolor\":\"white\",\"linecolor\":\"white\",\"minorgridcolor\":\"white\",\"startlinecolor\":\"#2a3f5f\"},\"type\":\"carpet\"}],\"choropleth\":[{\"colorbar\":{\"outlinewidth\":0,\"ticks\":\"\"},\"type\":\"choropleth\"}],\"contour\":[{\"colorbar\":{\"outlinewidth\":0,\"ticks\":\"\"},\"colorscale\":[[0.0,\"#0d0887\"],[0.1111111111111111,\"#46039f\"],[0.2222222222222222,\"#7201a8\"],[0.3333333333333333,\"#9c179e\"],[0.4444444444444444,\"#bd3786\"],[0.5555555555555556,\"#d8576b\"],[0.6666666666666666,\"#ed7953\"],[0.7777777777777778,\"#fb9f3a\"],[0.8888888888888888,\"#fdca26\"],[1.0,\"#f0f921\"]],\"type\":\"contour\"}],\"contourcarpet\":[{\"colorbar\":{\"outlinewidth\":0,\"ticks\":\"\"},\"type\":\"contourcarpet\"}],\"heatmap\":[{\"colorbar\":{\"outlinewidth\":0,\"ticks\":\"\"},\"colorscale\":[[0.0,\"#0d0887\"],[0.1111111111111111,\"#46039f\"],[0.2222222222222222,\"#7201a8\"],[0.3333333333333333,\"#9c179e\"],[0.4444444444444444,\"#bd3786\"],[0.5555555555555556,\"#d8576b\"],[0.6666666666666666,\"#ed7953\"],[0.7777777777777778,\"#fb9f3a\"],[0.8888888888888888,\"#fdca26\"],[1.0,\"#f0f921\"]],\"type\":\"heatmap\"}],\"heatmapgl\":[{\"colorbar\":{\"outlinewidth\":0,\"ticks\":\"\"},\"colorscale\":[[0.0,\"#0d0887\"],[0.1111111111111111,\"#46039f\"],[0.2222222222222222,\"#7201a8\"],[0.3333333333333333,\"#9c179e\"],[0.4444444444444444,\"#bd3786\"],[0.5555555555555556,\"#d8576b\"],[0.6666666666666666,\"#ed7953\"],[0.7777777777777778,\"#fb9f3a\"],[0.8888888888888888,\"#fdca26\"],[1.0,\"#f0f921\"]],\"type\":\"heatmapgl\"}],\"histogram\":[{\"marker\":{\"pattern\":{\"fillmode\":\"overlay\",\"size\":10,\"solidity\":0.2}},\"type\":\"histogram\"}],\"histogram2d\":[{\"colorbar\":{\"outlinewidth\":0,\"ticks\":\"\"},\"colorscale\":[[0.0,\"#0d0887\"],[0.1111111111111111,\"#46039f\"],[0.2222222222222222,\"#7201a8\"],[0.3333333333333333,\"#9c179e\"],[0.4444444444444444,\"#bd3786\"],[0.5555555555555556,\"#d8576b\"],[0.6666666666666666,\"#ed7953\"],[0.7777777777777778,\"#fb9f3a\"],[0.8888888888888888,\"#fdca26\"],[1.0,\"#f0f921\"]],\"type\":\"histogram2d\"}],\"histogram2dcontour\":[{\"colorbar\":{\"outlinewidth\":0,\"ticks\":\"\"},\"colorscale\":[[0.0,\"#0d0887\"],[0.1111111111111111,\"#46039f\"],[0.2222222222222222,\"#7201a8\"],[0.3333333333333333,\"#9c179e\"],[0.4444444444444444,\"#bd3786\"],[0.5555555555555556,\"#d8576b\"],[0.6666666666666666,\"#ed7953\"],[0.7777777777777778,\"#fb9f3a\"],[0.8888888888888888,\"#fdca26\"],[1.0,\"#f0f921\"]],\"type\":\"histogram2dcontour\"}],\"mesh3d\":[{\"colorbar\":{\"outlinewidth\":0,\"ticks\":\"\"},\"type\":\"mesh3d\"}],\"parcoords\":[{\"line\":{\"colorbar\":{\"outlinewidth\":0,\"ticks\":\"\"}},\"type\":\"parcoords\"}],\"pie\":[{\"automargin\":true,\"type\":\"pie\"}],\"scatter\":[{\"marker\":{\"colorbar\":{\"outlinewidth\":0,\"ticks\":\"\"}},\"type\":\"scatter\"}],\"scatter3d\":[{\"line\":{\"colorbar\":{\"outlinewidth\":0,\"ticks\":\"\"}},\"marker\":{\"colorbar\":{\"outlinewidth\":0,\"ticks\":\"\"}},\"type\":\"scatter3d\"}],\"scattercarpet\":[{\"marker\":{\"colorbar\":{\"outlinewidth\":0,\"ticks\":\"\"}},\"type\":\"scattercarpet\"}],\"scattergeo\":[{\"marker\":{\"colorbar\":{\"outlinewidth\":0,\"ticks\":\"\"}},\"type\":\"scattergeo\"}],\"scattergl\":[{\"marker\":{\"colorbar\":{\"outlinewidth\":0,\"ticks\":\"\"}},\"type\":\"scattergl\"}],\"scattermapbox\":[{\"marker\":{\"colorbar\":{\"outlinewidth\":0,\"ticks\":\"\"}},\"type\":\"scattermapbox\"}],\"scatterpolar\":[{\"marker\":{\"colorbar\":{\"outlinewidth\":0,\"ticks\":\"\"}},\"type\":\"scatterpolar\"}],\"scatterpolargl\":[{\"marker\":{\"colorbar\":{\"outlinewidth\":0,\"ticks\":\"\"}},\"type\":\"scatterpolargl\"}],\"scatterternary\":[{\"marker\":{\"colorbar\":{\"outlinewidth\":0,\"ticks\":\"\"}},\"type\":\"scatterternary\"}],\"surface\":[{\"colorbar\":{\"outlinewidth\":0,\"ticks\":\"\"},\"colorscale\":[[0.0,\"#0d0887\"],[0.1111111111111111,\"#46039f\"],[0.2222222222222222,\"#7201a8\"],[0.3333333333333333,\"#9c179e\"],[0.4444444444444444,\"#bd3786\"],[0.5555555555555556,\"#d8576b\"],[0.6666666666666666,\"#ed7953\"],[0.7777777777777778,\"#fb9f3a\"],[0.8888888888888888,\"#fdca26\"],[1.0,\"#f0f921\"]],\"type\":\"surface\"}],\"table\":[{\"cells\":{\"fill\":{\"color\":\"#EBF0F8\"},\"line\":{\"color\":\"white\"}},\"header\":{\"fill\":{\"color\":\"#C8D4E3\"},\"line\":{\"color\":\"white\"}},\"type\":\"table\"}]},\"layout\":{\"annotationdefaults\":{\"arrowcolor\":\"#2a3f5f\",\"arrowhead\":0,\"arrowwidth\":1},\"autotypenumbers\":\"strict\",\"coloraxis\":{\"colorbar\":{\"outlinewidth\":0,\"ticks\":\"\"}},\"colorscale\":{\"diverging\":[[0,\"#8e0152\"],[0.1,\"#c51b7d\"],[0.2,\"#de77ae\"],[0.3,\"#f1b6da\"],[0.4,\"#fde0ef\"],[0.5,\"#f7f7f7\"],[0.6,\"#e6f5d0\"],[0.7,\"#b8e186\"],[0.8,\"#7fbc41\"],[0.9,\"#4d9221\"],[1,\"#276419\"]],\"sequential\":[[0.0,\"#0d0887\"],[0.1111111111111111,\"#46039f\"],[0.2222222222222222,\"#7201a8\"],[0.3333333333333333,\"#9c179e\"],[0.4444444444444444,\"#bd3786\"],[0.5555555555555556,\"#d8576b\"],[0.6666666666666666,\"#ed7953\"],[0.7777777777777778,\"#fb9f3a\"],[0.8888888888888888,\"#fdca26\"],[1.0,\"#f0f921\"]],\"sequentialminus\":[[0.0,\"#0d0887\"],[0.1111111111111111,\"#46039f\"],[0.2222222222222222,\"#7201a8\"],[0.3333333333333333,\"#9c179e\"],[0.4444444444444444,\"#bd3786\"],[0.5555555555555556,\"#d8576b\"],[0.6666666666666666,\"#ed7953\"],[0.7777777777777778,\"#fb9f3a\"],[0.8888888888888888,\"#fdca26\"],[1.0,\"#f0f921\"]]},\"colorway\":[\"#636efa\",\"#EF553B\",\"#00cc96\",\"#ab63fa\",\"#FFA15A\",\"#19d3f3\",\"#FF6692\",\"#B6E880\",\"#FF97FF\",\"#FECB52\"],\"font\":{\"color\":\"#2a3f5f\"},\"geo\":{\"bgcolor\":\"white\",\"lakecolor\":\"white\",\"landcolor\":\"#E5ECF6\",\"showlakes\":true,\"showland\":true,\"subunitcolor\":\"white\"},\"hoverlabel\":{\"align\":\"left\"},\"hovermode\":\"closest\",\"mapbox\":{\"style\":\"light\"},\"paper_bgcolor\":\"white\",\"plot_bgcolor\":\"#E5ECF6\",\"polar\":{\"angularaxis\":{\"gridcolor\":\"white\",\"linecolor\":\"white\",\"ticks\":\"\"},\"bgcolor\":\"#E5ECF6\",\"radialaxis\":{\"gridcolor\":\"white\",\"linecolor\":\"white\",\"ticks\":\"\"}},\"scene\":{\"xaxis\":{\"backgroundcolor\":\"#E5ECF6\",\"gridcolor\":\"white\",\"gridwidth\":2,\"linecolor\":\"white\",\"showbackground\":true,\"ticks\":\"\",\"zerolinecolor\":\"white\"},\"yaxis\":{\"backgroundcolor\":\"#E5ECF6\",\"gridcolor\":\"white\",\"gridwidth\":2,\"linecolor\":\"white\",\"showbackground\":true,\"ticks\":\"\",\"zerolinecolor\":\"white\"},\"zaxis\":{\"backgroundcolor\":\"#E5ECF6\",\"gridcolor\":\"white\",\"gridwidth\":2,\"linecolor\":\"white\",\"showbackground\":true,\"ticks\":\"\",\"zerolinecolor\":\"white\"}},\"shapedefaults\":{\"line\":{\"color\":\"#2a3f5f\"}},\"ternary\":{\"aaxis\":{\"gridcolor\":\"white\",\"linecolor\":\"white\",\"ticks\":\"\"},\"baxis\":{\"gridcolor\":\"white\",\"linecolor\":\"white\",\"ticks\":\"\"},\"bgcolor\":\"#E5ECF6\",\"caxis\":{\"gridcolor\":\"white\",\"linecolor\":\"white\",\"ticks\":\"\"}},\"title\":{\"x\":0.05},\"xaxis\":{\"automargin\":true,\"gridcolor\":\"white\",\"linecolor\":\"white\",\"ticks\":\"\",\"title\":{\"standoff\":15},\"zerolinecolor\":\"white\",\"zerolinewidth\":2},\"yaxis\":{\"automargin\":true,\"gridcolor\":\"white\",\"linecolor\":\"white\",\"ticks\":\"\",\"title\":{\"standoff\":15},\"zerolinecolor\":\"white\",\"zerolinewidth\":2}}},\"scene\":{\"domain\":{\"x\":[0.0,1.0],\"y\":[0.0,1.0]},\"xaxis\":{\"title\":{\"text\":\"# of Average_Subscriptions\"}},\"yaxis\":{\"title\":{\"text\":\"# of Premium_Subscriptions\"}},\"zaxis\":{\"title\":{\"text\":\"# of Affordable_Subscriptions\"}}},\"legend\":{\"title\":{\"text\":\"Return\"},\"tracegroupgap\":0},\"margin\":{\"t\":60}},                        {\"responsive\": true}                    ).then(function(){\n",
              "                            \n",
              "var gd = document.getElementById('00d590b5-9e46-4145-ba16-8a13460539dd');\n",
              "var x = new MutationObserver(function (mutations, observer) {{\n",
              "        var display = window.getComputedStyle(gd).display;\n",
              "        if (!display || display === 'none') {{\n",
              "            console.log([gd, 'removed!']);\n",
              "            Plotly.purge(gd);\n",
              "            observer.disconnect();\n",
              "        }}\n",
              "}});\n",
              "\n",
              "// Listen for the removal of the full notebook cells\n",
              "var notebookContainer = gd.closest('#notebook-container');\n",
              "if (notebookContainer) {{\n",
              "    x.observe(notebookContainer, {childList: true});\n",
              "}}\n",
              "\n",
              "// Listen for the clearing of the current output cell\n",
              "var outputEl = gd.closest('.output');\n",
              "if (outputEl) {{\n",
              "    x.observe(outputEl, {childList: true});\n",
              "}}\n",
              "\n",
              "                        })                };                            </script>        </div>\n",
              "</body>\n",
              "</html>"
            ]
          },
          "metadata": {}
        }
      ],
      "source": [
        "fig = px.scatter_3d(plotdf, x='# of Average_Subscriptions', y='# of Premium_Subscriptions',\n",
        "                    z='# of Affordable_Subscriptions',\n",
        "              color='Return', hover_data=['Percentage_return'])\n",
        "fig.show()"
      ]
    },
    {
      "cell_type": "code",
      "execution_count": null,
      "id": "c24d96a2",
      "metadata": {
        "id": "c24d96a2"
      },
      "outputs": [],
      "source": [
        "plotdf.to_excel('Sharefront.xlsx')"
      ]
    }
  ],
  "metadata": {
    "kernelspec": {
      "display_name": "Python 3",
      "language": "python",
      "name": "python3"
    },
    "language_info": {
      "codemirror_mode": {
        "name": "ipython",
        "version": 3
      },
      "file_extension": ".py",
      "mimetype": "text/x-python",
      "name": "python",
      "nbconvert_exporter": "python",
      "pygments_lexer": "ipython3",
      "version": "3.8.8"
    },
    "colab": {
      "name": "Sharefront.ipynb",
      "provenance": []
    }
  },
  "nbformat": 4,
  "nbformat_minor": 5
}